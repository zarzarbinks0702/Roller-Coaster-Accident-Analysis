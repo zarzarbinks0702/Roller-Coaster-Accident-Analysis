{
 "cells": [
  {
   "cell_type": "code",

   "execution_count": 8,

   "metadata": {},
   "outputs": [],
   "source": [
    "import pandas as pd\n",
    "import sqlite3\n",
    "import matplotlib.pyplot as plt"
   ]
  },
  {
   "cell_type": "code",
   "execution_count": 3,
   "metadata": {},
   "outputs": [],
   "source": [
    "conn = sqlite3.connect('amusement_accidents.db')"
   ]
  },
  {
   "cell_type": "code",
   "execution_count": 4,
   "metadata": {},
   "outputs": [
    {
     "data": {
      "text/html": [
       "<div>\n",
       "<style scoped>\n",
       "    .dataframe tbody tr th:only-of-type {\n",
       "        vertical-align: middle;\n",
       "    }\n",
       "\n",
       "    .dataframe tbody tr th {\n",
       "        vertical-align: top;\n",
       "    }\n",
       "\n",
       "    .dataframe thead th {\n",
       "        text-align: right;\n",
       "    }\n",
       "</style>\n",
       "<table border=\"1\" class=\"dataframe\">\n",
       "  <thead>\n",
       "    <tr style=\"text-align: right;\">\n",
       "      <th></th>\n",
       "      <th>acc_id</th>\n",
       "      <th>acc_date</th>\n",
       "      <th>acc_state</th>\n",
       "      <th>acc_city</th>\n",
       "      <th>fix_port</th>\n",
       "      <th>source</th>\n",
       "      <th>bus_type</th>\n",
       "      <th>industry_sector</th>\n",
       "      <th>device_category</th>\n",
       "      <th>device_type</th>\n",
       "      <th>...</th>\n",
       "      <th>gender</th>\n",
       "      <th>acc_desc</th>\n",
       "      <th>injury_desc</th>\n",
       "      <th>report</th>\n",
       "      <th>category</th>\n",
       "      <th>mechanical</th>\n",
       "      <th>op_error</th>\n",
       "      <th>employee</th>\n",
       "      <th>notes</th>\n",
       "      <th>year</th>\n",
       "    </tr>\n",
       "  </thead>\n",
       "  <tbody>\n",
       "    <tr>\n",
       "      <th>0</th>\n",
       "      <td>1007272</td>\n",
       "      <td>2009-04-05</td>\n",
       "      <td>CA</td>\n",
       "      <td>Anaheim</td>\n",
       "      <td>F</td>\n",
       "      <td>California Division of Occupational Safety and...</td>\n",
       "      <td>Amusement park</td>\n",
       "      <td>amusement ride</td>\n",
       "      <td>cars &amp; track rides</td>\n",
       "      <td>Track ride</td>\n",
       "      <td>...</td>\n",
       "      <td>F</td>\n",
       "      <td>Patron's attorney stated that she had a right ...</td>\n",
       "      <td>Right vertegral artery tear</td>\n",
       "      <td>0</td>\n",
       "      <td>Illness or neurological symptoms</td>\n",
       "      <td>0</td>\n",
       "      <td>0</td>\n",
       "      <td>0</td>\n",
       "      <td>0</td>\n",
       "      <td>2009</td>\n",
       "    </tr>\n",
       "    <tr>\n",
       "      <th>1</th>\n",
       "      <td>918972</td>\n",
       "      <td>2009-02-05</td>\n",
       "      <td>FL</td>\n",
       "      <td>Naples</td>\n",
       "      <td>P</td>\n",
       "      <td>Florida Dept. of Agriculture</td>\n",
       "      <td>Carnival or rental</td>\n",
       "      <td>amusement ride</td>\n",
       "      <td>pendulum</td>\n",
       "      <td>Flying carpet ride</td>\n",
       "      <td>...</td>\n",
       "      <td>F</td>\n",
       "      <td>17-yo female was ejected from the ride mid-cyl...</td>\n",
       "      <td>Multiple broken ribs and bruised lung</td>\n",
       "      <td>https://saferparksdata.org/sites/default/files...</td>\n",
       "      <td>Fall: ejection/fall from ride</td>\n",
       "      <td>1</td>\n",
       "      <td>0</td>\n",
       "      <td>0</td>\n",
       "      <td>This was the third ejection on this ride, unde...</td>\n",
       "      <td>2009</td>\n",
       "    </tr>\n",
       "    <tr>\n",
       "      <th>2</th>\n",
       "      <td>919123</td>\n",
       "      <td>2008-11-08</td>\n",
       "      <td>CA</td>\n",
       "      <td>Buena Park</td>\n",
       "      <td>F</td>\n",
       "      <td>California Division of Occupational Safety and...</td>\n",
       "      <td>Amusement park</td>\n",
       "      <td>amusement ride</td>\n",
       "      <td>coaster</td>\n",
       "      <td>Coaster - steel</td>\n",
       "      <td>...</td>\n",
       "      <td>M</td>\n",
       "      <td>Guest injured right hand while riding.</td>\n",
       "      <td>Injured hand.  Treated at local hospital.</td>\n",
       "      <td>0</td>\n",
       "      <td>Unknown (not enough info)</td>\n",
       "      <td>0</td>\n",
       "      <td>0</td>\n",
       "      <td>0</td>\n",
       "      <td>0</td>\n",
       "      <td>2008</td>\n",
       "    </tr>\n",
       "    <tr>\n",
       "      <th>3</th>\n",
       "      <td>919095</td>\n",
       "      <td>2008-11-01</td>\n",
       "      <td>CA</td>\n",
       "      <td>Anaheim</td>\n",
       "      <td>F</td>\n",
       "      <td>California Division of Occupational Safety and...</td>\n",
       "      <td>Amusement park</td>\n",
       "      <td>amusement ride</td>\n",
       "      <td>spinning</td>\n",
       "      <td>Spinning cups/tubs</td>\n",
       "      <td>...</td>\n",
       "      <td>F</td>\n",
       "      <td>Guest stated when she sat down in the vehicle,...</td>\n",
       "      <td>Nosebleed.  Treated at local hospital.</td>\n",
       "      <td>0</td>\n",
       "      <td>Illness or neurological symptoms</td>\n",
       "      <td>0</td>\n",
       "      <td>0</td>\n",
       "      <td>0</td>\n",
       "      <td>0</td>\n",
       "      <td>2008</td>\n",
       "    </tr>\n",
       "    <tr>\n",
       "      <th>4</th>\n",
       "      <td>919094</td>\n",
       "      <td>2008-10-29</td>\n",
       "      <td>CA</td>\n",
       "      <td>Anaheim</td>\n",
       "      <td>F</td>\n",
       "      <td>California Division of Occupational Safety and...</td>\n",
       "      <td>Amusement park</td>\n",
       "      <td>amusement ride</td>\n",
       "      <td>spinning</td>\n",
       "      <td>Spinning cups/tubs</td>\n",
       "      <td>...</td>\n",
       "      <td>F</td>\n",
       "      <td>Guest stated she felt lightheaded and experien...</td>\n",
       "      <td>Dizziness, high blood pressure.  Treated at lo...</td>\n",
       "      <td>0</td>\n",
       "      <td>Illness or neurological symptoms</td>\n",
       "      <td>0</td>\n",
       "      <td>0</td>\n",
       "      <td>0</td>\n",
       "      <td>0</td>\n",
       "      <td>2008</td>\n",
       "    </tr>\n",
       "  </tbody>\n",
       "</table>\n",
       "<p>5 rows × 24 columns</p>\n",
       "</div>"
      ],
      "text/plain": [
       "    acc_id    acc_date acc_state    acc_city fix_port  \\\n",
       "0  1007272  2009-04-05        CA     Anaheim        F   \n",
       "1   918972  2009-02-05        FL      Naples        P   \n",
       "2   919123  2008-11-08        CA  Buena Park        F   \n",
       "3   919095  2008-11-01        CA     Anaheim        F   \n",
       "4   919094  2008-10-29        CA     Anaheim        F   \n",
       "\n",
       "                                              source            bus_type  \\\n",
       "0  California Division of Occupational Safety and...      Amusement park   \n",
       "1                       Florida Dept. of Agriculture  Carnival or rental   \n",
       "2  California Division of Occupational Safety and...      Amusement park   \n",
       "3  California Division of Occupational Safety and...      Amusement park   \n",
       "4  California Division of Occupational Safety and...      Amusement park   \n",
       "\n",
       "  industry_sector     device_category         device_type  ... gender  \\\n",
       "0  amusement ride  cars & track rides          Track ride  ...      F   \n",
       "1  amusement ride            pendulum  Flying carpet ride  ...      F   \n",
       "2  amusement ride             coaster     Coaster - steel  ...      M   \n",
       "3  amusement ride            spinning  Spinning cups/tubs  ...      F   \n",
       "4  amusement ride            spinning  Spinning cups/tubs  ...      F   \n",
       "\n",
       "                                            acc_desc  \\\n",
       "0  Patron's attorney stated that she had a right ...   \n",
       "1  17-yo female was ejected from the ride mid-cyl...   \n",
       "2             Guest injured right hand while riding.   \n",
       "3  Guest stated when she sat down in the vehicle,...   \n",
       "4  Guest stated she felt lightheaded and experien...   \n",
       "\n",
       "                                         injury_desc  \\\n",
       "0                        Right vertegral artery tear   \n",
       "1              Multiple broken ribs and bruised lung   \n",
       "2          Injured hand.  Treated at local hospital.   \n",
       "3             Nosebleed.  Treated at local hospital.   \n",
       "4  Dizziness, high blood pressure.  Treated at lo...   \n",
       "\n",
       "                                              report  \\\n",
       "0                                                  0   \n",
       "1  https://saferparksdata.org/sites/default/files...   \n",
       "2                                                  0   \n",
       "3                                                  0   \n",
       "4                                                  0   \n",
       "\n",
       "                           category mechanical op_error employee  \\\n",
       "0  Illness or neurological symptoms          0        0        0   \n",
       "1     Fall: ejection/fall from ride          1        0        0   \n",
       "2         Unknown (not enough info)          0        0        0   \n",
       "3  Illness or neurological symptoms          0        0        0   \n",
       "4  Illness or neurological symptoms          0        0        0   \n",
       "\n",
       "                                               notes  year  \n",
       "0                                                  0  2009  \n",
       "1  This was the third ejection on this ride, unde...  2009  \n",
       "2                                                  0  2008  \n",
       "3                                                  0  2008  \n",
       "4                                                  0  2008  \n",
       "\n",
       "[5 rows x 24 columns]"
      ]
     },
     "execution_count": 4,
     "metadata": {},
     "output_type": "execute_result"
    }
   ],
   "source": [
    "query = 'SELECT * FROM accidents'\n",
    "\n",
    "df = pd.read_sql(query, conn)\n",
    "\n",
    "df.head()"
   ]
  },
  {
   "cell_type": "code",

   "execution_count": 4,


   "metadata": {},

   "outputs": [
    {
     "data": {
      "text/plain": [
       "Index(['acc_id', 'acc_date', 'acc_state', 'acc_city', 'fix_port', 'source',\n",
       "       'bus_type', 'industry_sector', 'device_category', 'device_type',\n",
       "       'tradename_or_generic', 'manufacturer', 'num_injured', 'age_youngest',\n",
       "       'gender', 'acc_desc', 'injury_desc', 'report', 'category', 'mechanical',\n",
       "       'op_error', 'employee', 'notes', 'year'],\n",
       "      dtype='object')"
      ]
     },
     "execution_count": 5,
     "metadata": {},
     "output_type": "execute_result"
    }
   ],
   "source": [
    "df.columns"
   ]
  },
  {
   "cell_type": "markdown",
   "metadata": {},
   "source": [
    "The following section creates a copy of the dataframe to be manipulated into a format for anymaps."
   ]
  },
  {
   "cell_type": "code",
   "execution_count": 6,
   "metadata": {},
   "outputs": [],
   "source": [
    "kaylie_df = df"
   ]
  },
  {
   "cell_type": "code",
   "execution_count": 26,
   "metadata": {},
   "outputs": [
    {
     "name": "stdout",
     "output_type": "stream",
     "text": [
      "[{'id': 'US.AR', 'value': 3}, {'id': 'US.AZ', 'value': 1}, {'id': 'US.CA', 'value': 3407}, {'id': 'US.CO', 'value': 107}, {'id': 'US.CT', 'value': 11}, {'id': 'US.FL', 'value': 1070}, {'id': 'US.GA', 'value': 1}, {'id': 'US.IA', 'value': 14}, {'id': 'US.IL', 'value': 152}, {'id': 'US.IN', 'value': 8}, {'id': 'US.KY', 'value': 37}, {'id': 'US.LA', 'value': 1}, {'id': 'US.MA', 'value': 13}, {'id': 'US.MD', 'value': 66}, {'id': 'US.MI', 'value': 265}, {'id': 'US.MO', 'value': 6}, {'id': 'US.NC', 'value': 14}, {'id': 'US.NJ', 'value': 5646}, {'id': 'US.NV', 'value': 31}, {'id': 'US.NY', 'value': 69}, {'id': 'US.OH', 'value': 81}, {'id': 'US.OK', 'value': 154}, {'id': 'US.PA', 'value': 269}, {'id': 'US.RI', 'value': 5}, {'id': 'US.TN', 'value': 1}, {'id': 'US.TX', 'value': 3320}, {'id': 'US.VA', 'value': 2}, {'id': 'US.WA', 'value': 8}, {'id': 'US.WI', 'value': 111}, {'id': 'US.WV', 'value': 11}]\n"
     ]
    }
   ],
   "source": [
    "accidents_by_state = kaylie_df.groupby('acc_state').size()\n",
    "acc_by_state = []\n",
    "for state, acc in accidents_by_state.items():\n",
    "    state_sum = {'id': f'US.{state}',\n",
    "                 'value': acc}\n",
    "    acc_by_state.append(state_sum)\n",
    "print(acc_by_state)"
   ]
  },
  {
   "cell_type": "code",
<<<<<<< Updated upstream
   "execution_count": 6,
=======
   "execution_count": 1,
   "metadata": {},
   "outputs": [
    {
     "ename": "NameError",
     "evalue": "name 'df' is not defined",
     "output_type": "error",
     "traceback": [
      "\u001b[1;31m---------------------------------------------------------------------------\u001b[0m",
      "\u001b[1;31mNameError\u001b[0m                                 Traceback (most recent call last)",
      "\u001b[1;32m<ipython-input-1-3f209fc5f3b9>\u001b[0m in \u001b[0;36m<module>\u001b[1;34m\u001b[0m\n\u001b[1;32m----> 1\u001b[1;33m \u001b[0mvickieDF\u001b[0m\u001b[1;33m=\u001b[0m \u001b[0mdf\u001b[0m\u001b[1;33m\u001b[0m\u001b[1;33m\u001b[0m\u001b[0m\n\u001b[0m",
      "\u001b[1;31mNameError\u001b[0m: name 'df' is not defined"
     ]
    }
   ],
   "source": [
    "vickieDF= df"
   ]
  },
  {
   "cell_type": "code",
   "execution_count": 8,
>>>>>>> Stashed changes
   "metadata": {},
   "outputs": [
    {
     "data": {
      "text/html": [
       "<div>\n",
       "<style scoped>\n",
       "    .dataframe tbody tr th:only-of-type {\n",
       "        vertical-align: middle;\n",
       "    }\n",
       "\n",
       "    .dataframe tbody tr th {\n",
       "        vertical-align: top;\n",
       "    }\n",
       "\n",
       "    .dataframe thead th {\n",
       "        text-align: right;\n",
       "    }\n",
       "</style>\n",
       "<table border=\"1\" class=\"dataframe\">\n",
       "  <thead>\n",
       "    <tr style=\"text-align: right;\">\n",
       "      <th></th>\n",
       "      <th>category</th>\n",
       "      <th>age_youngest</th>\n",
       "    </tr>\n",
       "  </thead>\n",
       "  <tbody>\n",
       "    <tr>\n",
       "      <th>0</th>\n",
       "      <td>Abrupt stop/drop/lurch</td>\n",
       "      <td>22.537037</td>\n",
       "    </tr>\n",
       "    <tr>\n",
       "      <th>1</th>\n",
       "      <td>Awkward landing</td>\n",
       "      <td>0.000000</td>\n",
       "    </tr>\n",
       "    <tr>\n",
       "      <th>2</th>\n",
       "      <td>Body pain (normal motion)</td>\n",
       "      <td>22.277075</td>\n",
       "    </tr>\n",
       "    <tr>\n",
       "      <th>3</th>\n",
       "      <td>Burn (includes friction burn)</td>\n",
       "      <td>12.693182</td>\n",
       "    </tr>\n",
       "    <tr>\n",
       "      <th>4</th>\n",
       "      <td>Choking, water inhalation, suffocation</td>\n",
       "      <td>8.821429</td>\n",
       "    </tr>\n",
       "  </tbody>\n",
       "</table>\n",
       "</div>"
      ],
      "text/plain": [
       "                                 category  age_youngest\n",
       "0                  Abrupt stop/drop/lurch     22.537037\n",
       "1                         Awkward landing      0.000000\n",
       "2               Body pain (normal motion)     22.277075\n",
       "3           Burn (includes friction burn)     12.693182\n",
       "4  Choking, water inhalation, suffocation      8.821429"
      ]
     },
     "execution_count": 6,
     "metadata": {},
     "output_type": "execute_result"
    }
   ],
   "source": [
    "age_cat_df = df.groupby('category').age_youngest.mean().reset_index()\n",
    "\n",
    "age_cat_df.head()"
   ]
  },
  {
   "cell_type": "code",
   "execution_count": 7,
   "metadata": {
    "scrolled": true
   },
   "outputs": [
    {
     "data": {
      "image/png": "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\n",
      "text/plain": [
       "<Figure size 432x288 with 1 Axes>"
      ]
     },
     "metadata": {
      "needs_background": "light"
     },
     "output_type": "display_data"
    }
   ],
   "source": [
    "plt.bar(age_cat_df.category, age_cat_df.age_youngest)\n",
    "\n",
    "plt.show()"
   ]
  },
  {
   "cell_type": "code",
   "execution_count": 8,
   "metadata": {},
   "outputs": [],
   "source": [
    "device_type_pie = df[\"device_category\"].value_counts()"
   ]
  },
  {
   "cell_type": "code",
   "execution_count": 9,
   "metadata": {},
   "outputs": [
    {
     "data": {
      "text/plain": [
       "([<matplotlib.patches.Wedge at 0x1d532bacb80>,\n",
       "  <matplotlib.patches.Wedge at 0x1d533134040>,\n",
       "  <matplotlib.patches.Wedge at 0x1d533134880>,\n",
       "  <matplotlib.patches.Wedge at 0x1d532d919d0>,\n",
       "  <matplotlib.patches.Wedge at 0x1d532d911f0>,\n",
       "  <matplotlib.patches.Wedge at 0x1d53278a850>,\n",
       "  <matplotlib.patches.Wedge at 0x1d53278a790>,\n",
       "  <matplotlib.patches.Wedge at 0x1d53278afa0>,\n",
       "  <matplotlib.patches.Wedge at 0x1d5325fc520>,\n",
       "  <matplotlib.patches.Wedge at 0x1d5325fc5e0>,\n",
       "  <matplotlib.patches.Wedge at 0x1d5334d9520>,\n",
       "  <matplotlib.patches.Wedge at 0x1d5334d9760>,\n",
       "  <matplotlib.patches.Wedge at 0x1d5325d3e20>,\n",
       "  <matplotlib.patches.Wedge at 0x1d532e98a00>,\n",
       "  <matplotlib.patches.Wedge at 0x1d532e98070>,\n",
       "  <matplotlib.patches.Wedge at 0x1d532651670>,\n",
       "  <matplotlib.patches.Wedge at 0x1d5326519a0>,\n",
       "  <matplotlib.patches.Wedge at 0x1d532f54d00>,\n",
       "  <matplotlib.patches.Wedge at 0x1d5326bfa90>],\n",
       " [Text(0.8085344442816362, 0.7458364783316689, 'water slide'),\n",
       "  Text(-0.5267848338764768, 0.965659224984535, 'coaster'),\n",
       "  Text(-1.0971686449034916, 0.0788730919936334, 'spinning'),\n",
       "  Text(-0.8263983643278622, -0.7259929362164855, 'go-kart'),\n",
       "  Text(-0.2524305086479041, -1.0706441230884147, 'water ride'),\n",
       "  Text(0.25107447274247174, -1.0709629354637302, 'cars & track rides'),\n",
       "  Text(0.5700495003983819, -0.9407675414764028, 'aquatic play'),\n",
       "  Text(0.7401866957660377, -0.8137098103199663, 'other attraction'),\n",
       "  Text(0.8740766645036933, -0.6678248157788825, 'play equipment'),\n",
       "  Text(0.9652141458756074, -0.5275998982198745, 'pendulum'),\n",
       "  Text(1.021559976876177, -0.4079402084187649, 'vertical drop'),\n",
       "  Text(1.0549234538039165, -0.3116673011633016, 'float attraction'),\n",
       "  Text(1.0757818122642946, -0.22955063145491475, 'wave device'),\n",
       "  Text(1.089116784025208, -0.15435229429648342, 'inflatable'),\n",
       "  Text(1.0956804638775308, -0.097387479057214, 'challenge activity'),\n",
       "  Text(1.0986239666153204, -0.05500345424079877, 'unknown'),\n",
       "  Text(1.099708890519466, -0.025305258592730792, 'alpine activity'),\n",
       "  Text(1.099969983824033, -0.008126172909573522, 'trampoline'),\n",
       "  Text(1.099999975500421, -0.00023216173960252765, 'laser tag')],\n",
       " [Text(0.4410187877899833, 0.40681989727181933, '23.72%'),\n",
       "  Text(-0.28733718211444187, 0.5267232136279282, '18.46%'),\n",
       "  Text(-0.5984556244928135, 0.04302168654198185, '13.36%'),\n",
       "  Text(-0.4507627441788339, -0.3959961470271739, '11.87%'),\n",
       "  Text(-0.13768936835340223, -0.5839877035027716, '7.81%'),\n",
       "  Text(0.13694971240498457, -0.5841616011620346, '6.89%'),\n",
       "  Text(0.31093609112639004, -0.5131459317144015, '3.12%'),\n",
       "  Text(0.403738197690566, -0.4438417147199815, '3.03%'),\n",
       "  Text(0.47676908972928717, -0.3642680813339359, '2.71%'),\n",
       "  Text(0.5264804432048766, -0.2877817626653861, '2.14%'),\n",
       "  Text(0.557214532841551, -0.2225128409556899, '1.69%'),\n",
       "  Text(0.5754127929839544, -0.17000034608907358, '1.26%'),\n",
       "  Text(0.5867900794168879, -0.1252094353390444, '1.20%'),\n",
       "  Text(0.5940637003773862, -0.0841921605253546, '1.01%'),\n",
       "  Text(0.5976438893877439, -0.053120443122116716, '0.64%'),\n",
       "  Text(0.5992494363356292, -0.030001884131344782, '0.58%'),\n",
       "  Text(0.5998412130106178, -0.013802868323307703, '0.28%'),\n",
       "  Text(0.5999836275403817, -0.004432457950676466, '0.22%'),\n",
       "  Text(0.5999999866365932, -0.00012663367614683326, '0.01%')])"
      ]
     },
     "execution_count": 9,
     "metadata": {},
     "output_type": "execute_result"
    },
    {
     "data": {
      "image/png": "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\n",
      "text/plain": [
       "<Figure size 432x288 with 1 Axes>"
      ]
     },
     "metadata": {},
     "output_type": "display_data"
    }
   ],
   "source": [
    "plt.pie(device_type_pie, labels = device_type_pie.index, autopct='%1.2f%%')"
   ]
  },
  {
   "cell_type": "code",
   "execution_count": 10,
   "metadata": {},
   "outputs": [],
   "source": [
    "#keep this cell at the end of the document\n",
    "conn.close()"
   ]
  }
 ],
 "metadata": {
  "kernelspec": {
   "display_name": "Python 3",
   "language": "python",
   "name": "python3"
  },
  "language_info": {
   "codemirror_mode": {
    "name": "ipython",
    "version": 3
   },
   "file_extension": ".py",
   "mimetype": "text/x-python",
   "name": "python",
   "nbconvert_exporter": "python",
   "pygments_lexer": "ipython3",
   "version": "3.8.5"
  }
 },
 "nbformat": 4,
 "nbformat_minor": 4
}
