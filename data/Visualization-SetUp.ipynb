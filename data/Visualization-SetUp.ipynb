{
 "cells": [
  {
   "cell_type": "code",
<<<<<<< Updated upstream
   "execution_count": 1,
=======
   "execution_count": 2,
>>>>>>> Stashed changes
   "metadata": {},
   "outputs": [],
   "source": [
    "import pandas as pd\n",
    "import sqlite3\n",
    "import matplotlib.pyplot as plt"
   ]
  },
  {
   "cell_type": "code",
   "execution_count": 2,
   "metadata": {},
   "outputs": [],
   "source": [
    "conn = sqlite3.connect('amusement_accidents.db')"
   ]
  },
  {
   "cell_type": "code",
   "execution_count": 4,
   "metadata": {},
   "outputs": [
    {
     "data": {
      "text/html": [
       "<div>\n",
       "<style scoped>\n",
       "    .dataframe tbody tr th:only-of-type {\n",
       "        vertical-align: middle;\n",
       "    }\n",
       "\n",
       "    .dataframe tbody tr th {\n",
       "        vertical-align: top;\n",
       "    }\n",
       "\n",
       "    .dataframe thead th {\n",
       "        text-align: right;\n",
       "    }\n",
       "</style>\n",
       "<table border=\"1\" class=\"dataframe\">\n",
       "  <thead>\n",
       "    <tr style=\"text-align: right;\">\n",
       "      <th></th>\n",
       "      <th>acc_id</th>\n",
       "      <th>acc_date</th>\n",
       "      <th>acc_state</th>\n",
       "      <th>acc_city</th>\n",
       "      <th>fix_port</th>\n",
       "      <th>source</th>\n",
       "      <th>bus_type</th>\n",
       "      <th>industry_sector</th>\n",
       "      <th>device_category</th>\n",
       "      <th>device_type</th>\n",
       "      <th>...</th>\n",
       "      <th>gender</th>\n",
       "      <th>acc_desc</th>\n",
       "      <th>injury_desc</th>\n",
       "      <th>report</th>\n",
       "      <th>category</th>\n",
       "      <th>mechanical</th>\n",
       "      <th>op_error</th>\n",
       "      <th>employee</th>\n",
       "      <th>notes</th>\n",
       "      <th>year</th>\n",
       "    </tr>\n",
       "  </thead>\n",
       "  <tbody>\n",
       "    <tr>\n",
       "      <th>0</th>\n",
       "      <td>1007272</td>\n",
       "      <td>2009-04-05</td>\n",
       "      <td>CA</td>\n",
       "      <td>Anaheim</td>\n",
       "      <td>F</td>\n",
       "      <td>California Division of Occupational Safety and...</td>\n",
       "      <td>Amusement park</td>\n",
       "      <td>amusement ride</td>\n",
       "      <td>cars &amp; track rides</td>\n",
       "      <td>Track ride</td>\n",
       "      <td>...</td>\n",
       "      <td>F</td>\n",
       "      <td>Patron's attorney stated that she had a right ...</td>\n",
       "      <td>Right vertegral artery tear</td>\n",
       "      <td>0</td>\n",
       "      <td>Illness or neurological symptoms</td>\n",
       "      <td>0</td>\n",
       "      <td>0</td>\n",
       "      <td>0</td>\n",
       "      <td>0</td>\n",
       "      <td>2009</td>\n",
       "    </tr>\n",
       "    <tr>\n",
       "      <th>1</th>\n",
       "      <td>918972</td>\n",
       "      <td>2009-02-05</td>\n",
       "      <td>FL</td>\n",
       "      <td>Naples</td>\n",
       "      <td>P</td>\n",
       "      <td>Florida Dept. of Agriculture</td>\n",
       "      <td>Carnival or rental</td>\n",
       "      <td>amusement ride</td>\n",
       "      <td>pendulum</td>\n",
       "      <td>Flying carpet ride</td>\n",
       "      <td>...</td>\n",
       "      <td>F</td>\n",
       "      <td>17-yo female was ejected from the ride mid-cyl...</td>\n",
       "      <td>Multiple broken ribs and bruised lung</td>\n",
       "      <td>https://saferparksdata.org/sites/default/files...</td>\n",
       "      <td>Fall: ejection/fall from ride</td>\n",
       "      <td>1</td>\n",
       "      <td>0</td>\n",
       "      <td>0</td>\n",
       "      <td>This was the third ejection on this ride, unde...</td>\n",
       "      <td>2009</td>\n",
       "    </tr>\n",
       "    <tr>\n",
       "      <th>2</th>\n",
       "      <td>919123</td>\n",
       "      <td>2008-11-08</td>\n",
       "      <td>CA</td>\n",
       "      <td>Buena Park</td>\n",
       "      <td>F</td>\n",
       "      <td>California Division of Occupational Safety and...</td>\n",
       "      <td>Amusement park</td>\n",
       "      <td>amusement ride</td>\n",
       "      <td>coaster</td>\n",
       "      <td>Coaster - steel</td>\n",
       "      <td>...</td>\n",
       "      <td>M</td>\n",
       "      <td>Guest injured right hand while riding.</td>\n",
       "      <td>Injured hand.  Treated at local hospital.</td>\n",
       "      <td>0</td>\n",
       "      <td>Unknown (not enough info)</td>\n",
       "      <td>0</td>\n",
       "      <td>0</td>\n",
       "      <td>0</td>\n",
       "      <td>0</td>\n",
       "      <td>2008</td>\n",
       "    </tr>\n",
       "    <tr>\n",
       "      <th>3</th>\n",
       "      <td>919095</td>\n",
       "      <td>2008-11-01</td>\n",
       "      <td>CA</td>\n",
       "      <td>Anaheim</td>\n",
       "      <td>F</td>\n",
       "      <td>California Division of Occupational Safety and...</td>\n",
       "      <td>Amusement park</td>\n",
       "      <td>amusement ride</td>\n",
       "      <td>spinning</td>\n",
       "      <td>Spinning cups/tubs</td>\n",
       "      <td>...</td>\n",
       "      <td>F</td>\n",
       "      <td>Guest stated when she sat down in the vehicle,...</td>\n",
       "      <td>Nosebleed.  Treated at local hospital.</td>\n",
       "      <td>0</td>\n",
       "      <td>Illness or neurological symptoms</td>\n",
       "      <td>0</td>\n",
       "      <td>0</td>\n",
       "      <td>0</td>\n",
       "      <td>0</td>\n",
       "      <td>2008</td>\n",
       "    </tr>\n",
       "    <tr>\n",
       "      <th>4</th>\n",
       "      <td>919094</td>\n",
       "      <td>2008-10-29</td>\n",
       "      <td>CA</td>\n",
       "      <td>Anaheim</td>\n",
       "      <td>F</td>\n",
       "      <td>California Division of Occupational Safety and...</td>\n",
       "      <td>Amusement park</td>\n",
       "      <td>amusement ride</td>\n",
       "      <td>spinning</td>\n",
       "      <td>Spinning cups/tubs</td>\n",
       "      <td>...</td>\n",
       "      <td>F</td>\n",
       "      <td>Guest stated she felt lightheaded and experien...</td>\n",
       "      <td>Dizziness, high blood pressure.  Treated at lo...</td>\n",
       "      <td>0</td>\n",
       "      <td>Illness or neurological symptoms</td>\n",
       "      <td>0</td>\n",
       "      <td>0</td>\n",
       "      <td>0</td>\n",
       "      <td>0</td>\n",
       "      <td>2008</td>\n",
       "    </tr>\n",
       "  </tbody>\n",
       "</table>\n",
       "<p>5 rows × 24 columns</p>\n",
       "</div>"
      ],
      "text/plain": [
       "    acc_id    acc_date acc_state    acc_city fix_port  \\\n",
       "0  1007272  2009-04-05        CA     Anaheim        F   \n",
       "1   918972  2009-02-05        FL      Naples        P   \n",
       "2   919123  2008-11-08        CA  Buena Park        F   \n",
       "3   919095  2008-11-01        CA     Anaheim        F   \n",
       "4   919094  2008-10-29        CA     Anaheim        F   \n",
       "\n",
       "                                              source            bus_type  \\\n",
       "0  California Division of Occupational Safety and...      Amusement park   \n",
       "1                       Florida Dept. of Agriculture  Carnival or rental   \n",
       "2  California Division of Occupational Safety and...      Amusement park   \n",
       "3  California Division of Occupational Safety and...      Amusement park   \n",
       "4  California Division of Occupational Safety and...      Amusement park   \n",
       "\n",
       "  industry_sector     device_category         device_type  ... gender  \\\n",
       "0  amusement ride  cars & track rides          Track ride  ...      F   \n",
       "1  amusement ride            pendulum  Flying carpet ride  ...      F   \n",
       "2  amusement ride             coaster     Coaster - steel  ...      M   \n",
       "3  amusement ride            spinning  Spinning cups/tubs  ...      F   \n",
       "4  amusement ride            spinning  Spinning cups/tubs  ...      F   \n",
       "\n",
       "                                            acc_desc  \\\n",
       "0  Patron's attorney stated that she had a right ...   \n",
       "1  17-yo female was ejected from the ride mid-cyl...   \n",
       "2             Guest injured right hand while riding.   \n",
       "3  Guest stated when she sat down in the vehicle,...   \n",
       "4  Guest stated she felt lightheaded and experien...   \n",
       "\n",
       "                                         injury_desc  \\\n",
       "0                        Right vertegral artery tear   \n",
       "1              Multiple broken ribs and bruised lung   \n",
       "2          Injured hand.  Treated at local hospital.   \n",
       "3             Nosebleed.  Treated at local hospital.   \n",
       "4  Dizziness, high blood pressure.  Treated at lo...   \n",
       "\n",
       "                                              report  \\\n",
       "0                                                  0   \n",
       "1  https://saferparksdata.org/sites/default/files...   \n",
       "2                                                  0   \n",
       "3                                                  0   \n",
       "4                                                  0   \n",
       "\n",
       "                           category mechanical op_error employee  \\\n",
       "0  Illness or neurological symptoms          0        0        0   \n",
       "1     Fall: ejection/fall from ride          1        0        0   \n",
       "2         Unknown (not enough info)          0        0        0   \n",
       "3  Illness or neurological symptoms          0        0        0   \n",
       "4  Illness or neurological symptoms          0        0        0   \n",
       "\n",
       "                                               notes  year  \n",
       "0                                                  0  2009  \n",
       "1  This was the third ejection on this ride, unde...  2009  \n",
       "2                                                  0  2008  \n",
       "3                                                  0  2008  \n",
       "4                                                  0  2008  \n",
       "\n",
       "[5 rows x 24 columns]"
      ]
     },
     "execution_count": 4,
     "metadata": {},
     "output_type": "execute_result"
    }
   ],
   "source": [
    "query = 'SELECT * FROM accidents'\n",
    "\n",
    "df = pd.read_sql(query, conn)\n",
    "\n",
    "df.head()"
   ]
  },
  {
   "cell_type": "code",
<<<<<<< Updated upstream
   "execution_count": 4,
   "metadata": {},
=======
   "execution_count": 5,
   "metadata": {
    "scrolled": false
   },
>>>>>>> Stashed changes
   "outputs": [
    {
     "data": {
      "text/plain": [
       "Index(['acc_id', 'acc_date', 'acc_state', 'acc_city', 'fix_port', 'source',\n",
       "       'bus_type', 'industry_sector', 'device_category', 'device_type',\n",
       "       'tradename_or_generic', 'manufacturer', 'num_injured', 'age_youngest',\n",
       "       'gender', 'acc_desc', 'injury_desc', 'report', 'category', 'mechanical',\n",
       "       'op_error', 'employee', 'notes', 'year'],\n",
       "      dtype='object')"
      ]
     },
     "execution_count": 4,
     "metadata": {},
     "output_type": "execute_result"
    }
   ],
   "source": [
    "df.columns"
   ]
  },
  {
   "cell_type": "markdown",
   "metadata": {},
   "source": [
    "The following section creates a copy of the dataframe to be manipulated into a format for anymaps."
   ]
  },
  {
   "cell_type": "code",
   "execution_count": 6,
   "metadata": {},
   "outputs": [],
   "source": [
    "kaylie_df = df"
   ]
  },
  {
   "cell_type": "code",
   "execution_count": 26,
   "metadata": {},
   "outputs": [
    {
     "name": "stdout",
     "output_type": "stream",
     "text": [
      "[{'id': 'US.AR', 'value': 3}, {'id': 'US.AZ', 'value': 1}, {'id': 'US.CA', 'value': 3407}, {'id': 'US.CO', 'value': 107}, {'id': 'US.CT', 'value': 11}, {'id': 'US.FL', 'value': 1070}, {'id': 'US.GA', 'value': 1}, {'id': 'US.IA', 'value': 14}, {'id': 'US.IL', 'value': 152}, {'id': 'US.IN', 'value': 8}, {'id': 'US.KY', 'value': 37}, {'id': 'US.LA', 'value': 1}, {'id': 'US.MA', 'value': 13}, {'id': 'US.MD', 'value': 66}, {'id': 'US.MI', 'value': 265}, {'id': 'US.MO', 'value': 6}, {'id': 'US.NC', 'value': 14}, {'id': 'US.NJ', 'value': 5646}, {'id': 'US.NV', 'value': 31}, {'id': 'US.NY', 'value': 69}, {'id': 'US.OH', 'value': 81}, {'id': 'US.OK', 'value': 154}, {'id': 'US.PA', 'value': 269}, {'id': 'US.RI', 'value': 5}, {'id': 'US.TN', 'value': 1}, {'id': 'US.TX', 'value': 3320}, {'id': 'US.VA', 'value': 2}, {'id': 'US.WA', 'value': 8}, {'id': 'US.WI', 'value': 111}, {'id': 'US.WV', 'value': 11}]\n"
     ]
    }
   ],
   "source": [
    "accidents_by_state = kaylie_df.groupby('acc_state').size()\n",
    "acc_by_state = []\n",
    "for state, acc in accidents_by_state.items():\n",
    "    state_sum = {'id': f'US.{state}',\n",
    "                 'value': acc}\n",
    "    acc_by_state.append(state_sum)\n",
    "print(acc_by_state)"
   ]
  },
  {
   "cell_type": "code",
   "execution_count": 7,
   "metadata": {},
   "outputs": [
    {
     "data": {
      "text/html": [
       "<div>\n",
       "<style scoped>\n",
       "    .dataframe tbody tr th:only-of-type {\n",
       "        vertical-align: middle;\n",
       "    }\n",
       "\n",
       "    .dataframe tbody tr th {\n",
       "        vertical-align: top;\n",
       "    }\n",
       "\n",
       "    .dataframe thead th {\n",
       "        text-align: right;\n",
       "    }\n",
       "</style>\n",
       "<table border=\"1\" class=\"dataframe\">\n",
       "  <thead>\n",
       "    <tr style=\"text-align: right;\">\n",
       "      <th></th>\n",
       "      <th>category</th>\n",
       "      <th>age_youngest</th>\n",
       "    </tr>\n",
       "  </thead>\n",
       "  <tbody>\n",
       "    <tr>\n",
       "      <th>0</th>\n",
       "      <td>Abrupt stop/drop/lurch</td>\n",
       "      <td>22.537037</td>\n",
       "    </tr>\n",
       "    <tr>\n",
       "      <th>1</th>\n",
       "      <td>Awkward landing</td>\n",
       "      <td>0.000000</td>\n",
       "    </tr>\n",
       "    <tr>\n",
       "      <th>2</th>\n",
       "      <td>Body pain (normal motion)</td>\n",
       "      <td>22.277075</td>\n",
       "    </tr>\n",
       "    <tr>\n",
       "      <th>3</th>\n",
       "      <td>Burn (includes friction burn)</td>\n",
       "      <td>12.693182</td>\n",
       "    </tr>\n",
       "    <tr>\n",
       "      <th>4</th>\n",
       "      <td>Choking, water inhalation, suffocation</td>\n",
       "      <td>8.821429</td>\n",
       "    </tr>\n",
       "  </tbody>\n",
       "</table>\n",
       "</div>"
      ],
      "text/plain": [
       "                                 category  age_youngest\n",
       "0                  Abrupt stop/drop/lurch     22.537037\n",
       "1                         Awkward landing      0.000000\n",
       "2               Body pain (normal motion)     22.277075\n",
       "3           Burn (includes friction burn)     12.693182\n",
       "4  Choking, water inhalation, suffocation      8.821429"
      ]
     },
     "execution_count": 7,
     "metadata": {},
     "output_type": "execute_result"
    }
   ],
   "source": [
    "age_cat_df = df.groupby('category').age_youngest.mean().reset_index()\n",
    "\n",
    "age_cat_df.head()"
   ]
  },
  {
   "cell_type": "code",
   "execution_count": 9,
   "metadata": {},
   "outputs": [
    {
     "data": {
      "image/png": "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\n",
      "text/plain": [
       "<Figure size 432x288 with 1 Axes>"
      ]
     },
     "metadata": {
      "needs_background": "light"
     },
     "output_type": "display_data"
    }
   ],
   "source": [
    "plt.bar(age_cat_df.category, age_cat_df.age_youngest)\n",
    "\n",
    "plt.show()"
   ]
  },
  {
   "cell_type": "code",
   "execution_count": 10,
   "metadata": {},
   "outputs": [],
   "source": [
    "#keep this cell at the end of the document\n",
    "conn.close()"
   ]
  }
 ],
 "metadata": {
  "kernelspec": {
   "display_name": "Python 3",
   "language": "python",
   "name": "python3"
  },
  "language_info": {
   "codemirror_mode": {
    "name": "ipython",
    "version": 3
   },
   "file_extension": ".py",
   "mimetype": "text/x-python",
   "name": "python",
   "nbconvert_exporter": "python",
   "pygments_lexer": "ipython3",
   "version": "3.8.5"
  }
 },
 "nbformat": 4,
 "nbformat_minor": 4
}
